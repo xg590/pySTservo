{
 "cells": [
  {
   "cell_type": "code",
   "execution_count": 1,
   "id": "04192b75",
   "metadata": {},
   "outputs": [],
   "source": [
    "import time\n",
    "from STservo import ST3215\n",
    "servo = ST3215(port='COM7')"
   ]
  },
  {
   "cell_type": "markdown",
   "id": "849dfa24",
   "metadata": {},
   "source": [
    "* Ping the first servo"
   ]
  },
  {
   "cell_type": "code",
   "execution_count": 2,
   "id": "ea302a11",
   "metadata": {},
   "outputs": [
    {
     "name": "stdout",
     "output_type": "stream",
     "text": [
      "ping (0, [])\n"
     ]
    }
   ],
   "source": [
    "print('ping', servo.ping(1))"
   ]
  },
  {
   "cell_type": "markdown",
   "id": "5e802bbd",
   "metadata": {},
   "source": [
    "* Test the write function by spinning the servo to position 0x1000 in the velocity of 0x03E8 "
   ]
  },
  {
   "cell_type": "code",
   "execution_count": null,
   "id": "27318666",
   "metadata": {},
   "outputs": [],
   "source": [
    "#servo.write(254, 0x05, [1]) 把舵机的ID都改成1\n",
    "print('write', servo.write(1, 0x2A, [0X00, 0x10, 0x00, 0x00, 0xE8, 0x03]))"
   ]
  },
  {
   "cell_type": "markdown",
   "id": "32e32ece",
   "metadata": {},
   "source": [
    "* Test the read function, get the current position"
   ]
  },
  {
   "cell_type": "code",
   "execution_count": null,
   "id": "446ac477",
   "metadata": {},
   "outputs": [],
   "source": [
    "status, _params = servo.read(1, 0x38, 2)\n",
    "print('read posi', status, int.from_bytes(_params, byteorder='little'))"
   ]
  },
  {
   "cell_type": "markdown",
   "id": "9218d12a",
   "metadata": {},
   "source": [
    "* Test the reg_write and action functions by spinning two servos simultaneously. "
   ]
  },
  {
   "cell_type": "code",
   "execution_count": null,
   "id": "7a573baf",
   "metadata": {},
   "outputs": [],
   "source": [
    "print('reg_write', servo.reg_write(1, 0x2A, [0X00, 0x01, 0x00, 0x00, 0xE8, 0x03]))\n",
    "print('reg_write', servo.reg_write(2, 0x2A, [0X00, 0x01, 0x00, 0x00, 0xE8, 0x03]))\n",
    "servo.action()"
   ]
  },
  {
   "cell_type": "markdown",
   "id": "0051c182",
   "metadata": {},
   "source": [
    "* Test the sync_write and sync_read function by spinning two servo to position 0x0800"
   ]
  },
  {
   "cell_type": "code",
   "execution_count": null,
   "id": "6985021c",
   "metadata": {},
   "outputs": [],
   "source": [
    "servo.sync_write([1, 2], 0x2A, [0x00, 0x08, 0x00, 0x00, 0x00, 0x01])\n",
    "time.sleep(3) # delay 3 sec because sync_write function is non-blocking\n",
    "print('sync_read', servo.sync_read([1, 2], 0x2A, 2))"
   ]
  },
  {
   "cell_type": "markdown",
   "id": "6e50f278",
   "metadata": {},
   "source": [
    "* Test move2Posi and readPosi functions by spinning two servos."
   ]
  },
  {
   "cell_type": "code",
   "execution_count": 3,
   "id": "918a6dc4",
   "metadata": {},
   "outputs": [
    {
     "name": "stdout",
     "output_type": "stream",
     "text": [
      "posi {1: {'posi': 2502, 'velo': 0, 'load': 24}, 2: {'posi': 1094, 'velo': 0, 'load': 1080}, 3: {'posi': 3998, 'velo': 0, 'load': 1048}, 4: {'posi': 3396, 'velo': 0, 'load': 1064}, 5: {'posi': 3098, 'velo': 0, 'load': 1048}, 6: {'posi': 2599, 'velo': 0, 'load': 0}}\n"
     ]
    }
   ],
   "source": [
    "print('posi', servo.readPosi(dev_id=[1, 2, 3, 4, 5, 6], debug=True))"
   ]
  },
  {
   "cell_type": "code",
   "execution_count": null,
   "id": "eeb3f9cd",
   "metadata": {},
   "outputs": [],
   "source": [
    "posi = 0x0FFF\n",
    "servo.move2Posi(dev_id=4, posi=posi, velo=1800, acc=100)\n",
    "servo.move2Posi(dev_id=3, posi=posi, velo=1800, acc=100)\n",
    "time.sleep(1)\n",
    "print('posi', servo.readPosi(dev_id=[3, 4], debug=True))\n",
    "time.sleep(6)\n",
    "print('posi', servo.readPosi(dev_id=[3, 4], debug=True))\n",
    "time.sleep(3)\n",
    "servo.move2Posi(dev_id=[3, 4], posi=[0, 0], velo=1800, acc=100)"
   ]
  },
  {
   "cell_type": "markdown",
   "id": "9adb0399",
   "metadata": {},
   "source": [
    "* Change addr"
   ]
  },
  {
   "cell_type": "code",
   "execution_count": null,
   "id": "db916033",
   "metadata": {},
   "outputs": [],
   "source": [
    "servo.__change_addr__(1, 4)\n",
    "servo.__change_addr__(2, 3)"
   ]
  },
  {
   "cell_type": "markdown",
   "id": "9b1b30ac",
   "metadata": {},
   "source": [
    "* Stop"
   ]
  },
  {
   "cell_type": "code",
   "execution_count": 4,
   "id": "41a81a0c",
   "metadata": {},
   "outputs": [],
   "source": [
    "servo.ser.close()"
   ]
  }
 ],
 "metadata": {
  "kernelspec": {
   "display_name": "cursor",
   "language": "python",
   "name": "python3"
  },
  "language_info": {
   "codemirror_mode": {
    "name": "ipython",
    "version": 3
   },
   "file_extension": ".py",
   "mimetype": "text/x-python",
   "name": "python",
   "nbconvert_exporter": "python",
   "pygments_lexer": "ipython3",
   "version": "3.13.5"
  }
 },
 "nbformat": 4,
 "nbformat_minor": 5
}
