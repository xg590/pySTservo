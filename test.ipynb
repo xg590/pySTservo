{
 "cells": [
  {
   "cell_type": "code",
   "execution_count": 6,
   "id": "255c6119-ceb6-480b-a2aa-7f6629858e43",
   "metadata": {},
   "outputs": [],
   "source": [
    "from a import EncoderUnwrapper\n",
    "import time\n",
    "from IPython.display import clear_output\n",
    "from STservo import ST3215\n",
    "servo_bus = ST3215(port='COM16')\n",
    "dev_id = [1, 2, 3, 4, 5, 6]"
   ]
  },
  {
   "cell_type": "code",
   "execution_count": 7,
   "id": "384ea95c-5940-476e-ae68-06b0315d4143",
   "metadata": {},
   "outputs": [
    {
     "data": {
      "text/plain": [
       "(0, [])"
      ]
     },
     "execution_count": 7,
     "metadata": {},
     "output_type": "execute_result"
    }
   ],
   "source": [
    "servo_bus.ping(4)"
   ]
  },
  {
   "cell_type": "code",
   "execution_count": 8,
   "id": "e781fc00-c1d2-4ea3-aa61-47ba5838e46c",
   "metadata": {},
   "outputs": [
    {
     "data": {
      "text/plain": [
       "{3: {'posi': 3054, 'velo': 0, 'load': 0},\n",
       " 4: {'posi': 1687, 'velo': 0, 'load': 0}}"
      ]
     },
     "execution_count": 8,
     "metadata": {},
     "output_type": "execute_result"
    }
   ],
   "source": [
    "servo_bus.readPosi([3,4])"
   ]
  },
  {
   "cell_type": "code",
   "execution_count": null,
   "id": "9d3b2503-fb62-40a9-96e2-3c78d79bbf5b",
   "metadata": {},
   "outputs": [],
   "source": [
    "class Corrector:\n",
    "    def __init__(self, servo_bus=None, dev_id=[1, 2, 3, 4, 5, 6], abs_max_posi=4095):\n",
    "        self.total_step = abs_max_posi + 1\n",
    "        for _id in dev_id:\n",
    "            servo_bus.__set_posi_corr__(dev_id=_id, step=0, save=False)\n",
    "        posi_raw = servo_bus.readPosi(dev_id=dev_id)\n",
    "        encoder = {_id: EncoderUnwrapper(curr_posi=posi_raw[_id][\"posi\"], abs_max_posi=abs_max_posi)\n",
    "                    for _id in dev_id}\n",
    "        for _id in dev_id:\n",
    "            encoder[_id].min_step = abs_max_posi\n",
    "            encoder[_id].max_step = 0\n",
    "            encoder[_id].posi_raw = 0\n",
    "        self.encoder = encoder\n",
    "        self.dev_id  = dev_id\n",
    "        print('initialized')\n",
    "\n",
    "    def update(self):\n",
    "        posi_raw = servo_bus.readPosi(dev_id=self.dev_id)\n",
    "        for _id in self.dev_id:\n",
    "            _posi_raw = posi_raw[_id][\"posi\"]\n",
    "            self.encoder[_id].posi_raw = _posi_raw\n",
    "            #print(_id, _posi_raw)\n",
    "            self.encoder[_id].update(_posi_raw)\n",
    "            min_step = self.encoder[_id].min_step\n",
    "            max_step = self.encoder[_id].max_step\n",
    "            posi = self.encoder[_id].posi\n",
    "            if posi < min_step:\n",
    "                self.encoder[_id].min_step = posi\n",
    "            elif posi > max_step:\n",
    "                self.encoder[_id].max_step = posi\n",
    "\n",
    "    def show(self):\n",
    "        print(f' id |  min |  max |  len | curr |  raw')\n",
    "        for _id in self.dev_id:\n",
    "            min  = self.encoder[_id].min_step\n",
    "            max  = self.encoder[_id].max_step\n",
    "            curr = self.encoder[_id].posi\n",
    "            raw  = self.encoder[_id].posi_raw\n",
    "            len  = max - min\n",
    "            print(f'{_id:3d} |{min: 5d} |{max: 5d} |{len: 5d}|{curr: 5d}|{raw: 5d}')\n",
    "\n",
    "    def save(self):\n",
    "        MARGIN = 100\n",
    "        conf = {}\n",
    "        print(f' id |  min |  max | corr ')\n",
    "        for _id in self.dev_id:\n",
    "            min  = self.encoder[_id].min_step \n",
    "            max  = self.encoder[_id].max_step\n",
    "            if max < 4096 and min > 0:\n",
    "                # 说明安装完毕的舵机无论如何转动，都不越过零点\n",
    "                corr = 0\n",
    "            else:\n",
    "                if   min > 2047: \n",
    "                elif min >= 0: \n",
    "                elif min < -2047: \n",
    "                elif min < 0: \n",
    "                else:\n",
    "                    print('save error')\n",
    "                    raise\n",
    "            print(f'{_id:3d} |{min: 5d} |{max: 5d}|{corr: 5d}')\n",
    "            conf[_id] = {'min':min, 'max':max, 'corr':corr}\n",
    "        return {'config': conf}\n",
    "\n",
    "c = Corrector(servo_bus=servo_bus, dev_id=[3, 4])#) \n",
    "try:\n",
    "    while True:\n",
    "        time.sleep(0.3)\n",
    "        clear_output(wait=True)\n",
    "        c.update()\n",
    "        c.show()\n",
    "except KeyboardInterrupt:\n",
    "    clear_output(wait=True)\n",
    "    config = c.save()['config']"
   ]
  },
  {
   "cell_type": "code",
   "execution_count": null,
   "id": "e54b84a7-168b-4dfc-8017-2196840eed93",
   "metadata": {},
   "outputs": [],
   "source": [
    "servo_bus.ser.inWaiting()"
   ]
  },
  {
   "cell_type": "code",
   "execution_count": null,
   "id": "0782e04f-fe4d-4d7c-b5f0-688d61077ce2",
   "metadata": {},
   "outputs": [],
   "source": [
    " id |  min |  max |  len | curr |  raw\n",
    "  1 | 3505 | 6234 | 2729| 4840|  744\n",
    "  2 |   -5 | 2365 | 2370|   -2| 4093\n",
    "  3 | -879 | 1348 | 2227| 1343| 1343\n",
    "  4 | 2054 | 4385 | 2331| 4077| 4077\n",
    "  5 | 2548 | 3956 | 1408| 3395| 3394\n",
    "  6 | 2363 | 3835 | 1472| 2381| 2381\n",
    "config: {1: {'min': 3505, 'max': 6234, 'corr': 3405}, 2: {'min': -5, 'max': 2365, 'corr': -105}, 3: {'min': -879, 'max': 1348, 'corr': -979}, \n",
    "         4: {'min': 2054, 'max': 4385, 'corr': 1954}, 5: {'min': 2548, 'max': 3956, 'corr': 0}, 6: {'min': 2363, 'max': 3835, 'corr': 0}}"
   ]
  },
  {
   "cell_type": "code",
   "execution_count": null,
   "id": "c074a6ea-fa7b-4788-9d01-dcdd17973f6a",
   "metadata": {},
   "outputs": [],
   "source": [
    "servo_bus.__change_addr__(0xFE, 1)"
   ]
  },
  {
   "cell_type": "code",
   "execution_count": null,
   "id": "41188cb8-f412-4416-9f99-feb6dec038e6",
   "metadata": {},
   "outputs": [],
   "source": [
    "\n",
    "dev_id = [3, 4]\n",
    "try:\n",
    "    while True:\n",
    "        time.sleep(0.3)\n",
    "        clear_output(wait=True)\n",
    "        for _id in dev_id:\n",
    "            status, corr = servo_bus.__get_posi_corr__(dev_id=_id)\n",
    "            print(f'id: {_id}, corr: {corr}, posi: {servo_bus.readPosi(dev_id=[_id], debug=True)[_id][\"posi\"]}')  \n",
    "except KeyboardInterrupt:\n",
    "    pass"
   ]
  },
  {
   "cell_type": "code",
   "execution_count": null,
   "id": "554d7e2c-87bc-482b-950f-27b738c0e4b7",
   "metadata": {},
   "outputs": [],
   "source": [
    "2800 - 2047 + 100"
   ]
  },
  {
   "cell_type": "code",
   "execution_count": null,
   "id": "d64f2462-4ca9-4308-9538-851f8123bf32",
   "metadata": {},
   "outputs": [],
   "source": [
    "servo_bus.__set_posi_corr__(dev_id=4, step=2568-2047+100)\n",
    "time.sleep(1)\n",
    "servo_bus.readPosi(dev_id=[4])"
   ]
  },
  {
   "cell_type": "code",
   "execution_count": null,
   "id": "d9785406-6020-49ea-bf86-910bd08212ae",
   "metadata": {},
   "outputs": [],
   "source": [
    "c = Corrector(servo_bus=servo_bus, dev_id=[3, 4]) "
   ]
  },
  {
   "cell_type": "code",
   "execution_count": null,
   "id": "808190e3-dc7c-4c16-9b99-c1cd84832e70",
   "metadata": {},
   "outputs": [],
   "source": [
    "servo_bus.readPosi(dev_id=[4])"
   ]
  },
  {
   "cell_type": "code",
   "execution_count": null,
   "id": "5071468f-0d5c-4993-99bc-9f68d28254b1",
   "metadata": {},
   "outputs": [],
   "source": [
    "\n",
    "c = Corrector(servo_bus=servo_bus, dev_id=[1, 2, 3, 4, 5, 6])\n",
    "try:\n",
    "    while True:\n",
    "        time.sleep(0.3)\n",
    "        clear_output(wait=True)\n",
    "        c.update()\n",
    "        c.show()\n",
    "except KeyboardInterrupt:\n",
    "    clear_output(wait=True)\n",
    "    c.save()"
   ]
  },
  {
   "cell_type": "code",
   "execution_count": null,
   "id": "b7e50d14-d197-4964-a4ee-75b27a90855f",
   "metadata": {},
   "outputs": [],
   "source": [
    " id |  min |  max \n",
    "  1 | 2727 | 5436\n",
    "  2 | 3505 | 5896\n",
    "  3 | 3942 | 6155\n",
    "  4 | 2466 | 4814\n",
    "  5 | 2454 | 6266\n",
    "  6 | 3599 | 4883\n",
    "config: {1: {'min': 2727, 'max': 5436}, 2: {'min': 3505, 'max': 5896}, 3: {'min': 3942, 'max': 6155}, \n",
    "         4: {'min': 2466, 'max': 4814}, 5: {'min': 2454, 'max': 6266}, 6: {'min': 3599, 'max': 4883}}"
   ]
  },
  {
   "cell_type": "code",
   "execution_count": null,
   "id": "488a92ea-7256-4eaa-b2a9-d8f0aca56bed",
   "metadata": {},
   "outputs": [],
   "source": [
    "servo_bus.readPosi(dev_id=[1])"
   ]
  },
  {
   "cell_type": "code",
   "execution_count": null,
   "id": "ef9d0fb9-0334-488b-ad90-e052a0c66a23",
   "metadata": {},
   "outputs": [],
   "source": []
  },
  {
   "cell_type": "code",
   "execution_count": null,
   "id": "883fd78c-fddb-47a2-bc65-73389b2600b2",
   "metadata": {},
   "outputs": [],
   "source": [
    "min_step = 1\n",
    "max_step = 5400\n",
    "MARGIN = 100\n",
    "\n",
    "if min_step < 0:\n",
    "    corr = min_step\n",
    "    \n",
    "elif max_step > 4095:\n",
    "    corr = max_step - 4095 - MARGIN\n",
    "    if corr < 0: raise\n",
    "\n",
    "corr"
   ]
  },
  {
   "cell_type": "code",
   "execution_count": null,
   "id": "b59162e4-51f8-44b1-b18a-dee0f28a9705",
   "metadata": {},
   "outputs": [],
   "source": [
    "max_step - 4095 - MARGIN"
   ]
  },
  {
   "cell_type": "code",
   "execution_count": null,
   "id": "c7ee47af-dfcc-4233-949f-cd36c7406cdd",
   "metadata": {},
   "outputs": [],
   "source": [
    "if 5890 > 2048:\n",
    "    servo_bus.__set_posi_corr__(dev_id=2, step=5890 - 4000)"
   ]
  },
  {
   "cell_type": "code",
   "execution_count": null,
   "id": "d344dc7a-70e9-4e29-a2dd-31ed87834722",
   "metadata": {},
   "outputs": [],
   "source": []
  },
  {
   "cell_type": "code",
   "execution_count": null,
   "id": "08f84809-13fe-4c48-ab4b-b799b7c1577d",
   "metadata": {},
   "outputs": [],
   "source": [
    " id |  min |  max |  len | curr\n",
    "  1 |-1386 | 1341 | 2727| -398 \n",
    " id |  min |  max |  len | curr\n",
    "  1 | 2712 | 5438 | 2726| 4048\n",
    "  2 | -587 | 1805 | 2392| -551\n",
    "  3 | -151 | 2059 | 2210| 2033\n",
    "  4 | 2467 | 4814 | 2347| 4471\n",
    "  5 |-1645 | 2182 | 3827|  327\n",
    "  6 | -521 |  809 | 1330| -497\n"
   ]
  },
  {
   "cell_type": "code",
   "execution_count": null,
   "id": "9a54bd5e-c48b-4371-a2ed-05a9a9d55e39",
   "metadata": {},
   "outputs": [],
   "source": [
    "-1386 - 2712 "
   ]
  },
  {
   "cell_type": "code",
   "execution_count": null,
   "id": "86889b7d-2817-4fd4-835c-33ae71810388",
   "metadata": {},
   "outputs": [],
   "source": [
    "if 3504 > 2048:\n",
    "    print(servo_bus.__get_posi_corr__(dev_id=2))"
   ]
  },
  {
   "cell_type": "code",
   "execution_count": null,
   "id": "91b22550-1f53-4495-ad70-a6ff2825c570",
   "metadata": {},
   "outputs": [],
   "source": [
    "print('posi', servo_bus.readPosi(dev_id=2, debug=True))"
   ]
  },
  {
   "cell_type": "code",
   "execution_count": null,
   "id": "a649d7d0",
   "metadata": {},
   "outputs": [],
   "source": [
    "posi = 0x0FFF\n",
    "servo.move2Posi(dev_id=4, posi=posi, velo=1800, acc=100)\n",
    "servo.move2Posi(dev_id=3, posi=posi, velo=1800, acc=100)\n",
    "time.sleep(1)\n",
    "print('posi', servo.readPosi(dev_id=[3, 4], debug=True))\n",
    "time.sleep(6)\n",
    "print('posi', servo.readPosi(dev_id=[3, 4], debug=True))\n",
    "time.sleep(3)\n",
    "servo.move2Posi(dev_id=[3, 4], posi=[0, 0], velo=1800, acc=100)"
   ]
  },
  {
   "cell_type": "code",
   "execution_count": null,
   "id": "901e48a1",
   "metadata": {},
   "outputs": [],
   "source": [
    "servo.__set_torque_mode__(dev_id=3, mode='torque')\n",
    "servo.__set_posi_corr__(dev_id=3, step=2000)\n",
    "servo.move2Posi(dev_id=[3], posi=[1000], velo=1800, acc=100)"
   ]
  },
  {
   "cell_type": "code",
   "execution_count": null,
   "id": "26d344c8",
   "metadata": {},
   "outputs": [],
   "source": [
    "servo.move2Posi(dev_id=[3, 4], posi=[2000, 3500], velo=1800, acc=100)"
   ]
  },
  {
   "cell_type": "code",
   "execution_count": null,
   "id": "834becfe",
   "metadata": {},
   "outputs": [],
   "source": [
    "status, posi_corr = servo.__get_posi_corr__(dev_id=4)\n",
    "posi_corr"
   ]
  },
  {
   "cell_type": "code",
   "execution_count": null,
   "id": "5ad5d85b",
   "metadata": {},
   "outputs": [],
   "source": [
    "servo.__set_torque_mode__(dev_id=3, mode='free')"
   ]
  },
  {
   "cell_type": "code",
   "execution_count": null,
   "id": "b0f8278c",
   "metadata": {},
   "outputs": [],
   "source": [
    "t = time.time()\n",
    "while True:\n",
    "    posi = servo.readPosi(dev_id=[3], debug=True)[3]['posi']\n",
    "    posi += 2500\n",
    "    servo.move2Posi(dev_id=[4], posi=[posi], velo=1800, acc=100)\n",
    "    time.sleep(0.1)\n",
    "    if time.time() - t > 1:\n",
    "        t = time.time()\n",
    "        print(posi-2500, posi)"
   ]
  }
 ],
 "metadata": {
  "kernelspec": {
   "display_name": "Python 3 (ipykernel)",
   "language": "python",
   "name": "python3"
  },
  "language_info": {
   "codemirror_mode": {
    "name": "ipython",
    "version": 3
   },
   "file_extension": ".py",
   "mimetype": "text/x-python",
   "name": "python",
   "nbconvert_exporter": "python",
   "pygments_lexer": "ipython3",
   "version": "3.13.5"
  }
 },
 "nbformat": 4,
 "nbformat_minor": 5
}
