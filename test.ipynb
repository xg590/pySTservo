{
 "cells": [
  {
   "cell_type": "code",
   "execution_count": 1,
   "id": "255c6119-ceb6-480b-a2aa-7f6629858e43",
   "metadata": {},
   "outputs": [],
   "source": [
    "import time\n",
    "from IPython.display import clear_output\n",
    "from STservo import ST3215, Calibrator"
   ]
  },
  {
   "cell_type": "code",
   "execution_count": null,
   "id": "1ce549d1",
   "metadata": {},
   "outputs": [],
   "source": [
    "dev_id=[7, 8, 9, 10, 11, 12]\n",
    "calib = Calibrator(port='COM17', dev_id=dev_id, __set_posi_corr__=True)\n",
    "try:\n",
    "    while True:\n",
    "        time.sleep(0.3)\n",
    "        clear_output(wait=True)\n",
    "        calib.update()\n",
    "except KeyboardInterrupt:\n",
    "    clear_output(wait=True)\n",
    "    config = calib.config()\n",
    "\n",
    "config"
   ]
  },
  {
   "cell_type": "code",
   "execution_count": null,
   "id": "8a0d370f-08a2-4691-90e4-eba663c02559",
   "metadata": {},
   "outputs": [],
   "source": [
    "for _id, _c in config.items():\n",
    "    calib.__set_posi_corr__(dev_id=_id, step=_c['corr'])\n",
    "\n",
    "time.sleep(1)\n",
    "try:\n",
    "    while True:\n",
    "        time.sleep(0.3)\n",
    "        clear_output(wait=True)\n",
    "        for _id in dev_id:\n",
    "            status, corr = calib.__get_posi_corr__(dev_id=_id)\n",
    "            print(f'id: {_id}, corr: {corr}, posi: {calib.readPosi(dev_id=[_id], debug=True)[_id][\"posi\"]}')  \n",
    "except KeyboardInterrupt:\n",
    "    pass"
   ]
  },
  {
   "cell_type": "code",
   "execution_count": 2,
   "id": "df066eb1",
   "metadata": {},
   "outputs": [],
   "source": [
    "servo_bus = ST3215(port='COM17')"
   ]
  },
  {
   "cell_type": "code",
   "execution_count": 4,
   "id": "30650397",
   "metadata": {},
   "outputs": [],
   "source": [
    "servo_bus.move2Posi(dev_id=7, posi=2500, velo=1800, acc=100)\n"
   ]
  },
  {
   "cell_type": "code",
   "execution_count": null,
   "id": "8072cfbf",
   "metadata": {},
   "outputs": [],
   "source": [
    "servo_bus.__set_torque_mode__(7, 'torque')"
   ]
  },
  {
   "cell_type": "code",
   "execution_count": null,
   "id": "fdd13869",
   "metadata": {},
   "outputs": [],
   "source": [
    "servo_bus.readPosi(dev_id=7)"
   ]
  },
  {
   "cell_type": "code",
   "execution_count": null,
   "id": "e35dca58",
   "metadata": {},
   "outputs": [],
   "source": [
    "servo_bus.ping(1)"
   ]
  },
  {
   "cell_type": "code",
   "execution_count": null,
   "id": "a649d7d0",
   "metadata": {},
   "outputs": [],
   "source": [
    "posi = 0x0FFF\n",
    "servo_bus.move2Posi(dev_id=4, posi=posi, velo=1800, acc=100)\n",
    "servo_bus.move2Posi(dev_id=3, posi=posi, velo=1800, acc=100)\n",
    "time.sleep(1)\n",
    "print('posi', servo_bus.readPosi(dev_id=[3, 4], debug=True))\n",
    "time.sleep(6)\n",
    "print('posi', servo_bus.readPosi(dev_id=[3, 4], debug=True))\n",
    "time.sleep(3)\n",
    "servo_bus.move2Posi(dev_id=[3, 4], posi=[0, 0], velo=1800, acc=100)"
   ]
  },
  {
   "cell_type": "code",
   "execution_count": null,
   "id": "901e48a1",
   "metadata": {},
   "outputs": [],
   "source": [
    "servo.__set_torque_mode__(dev_id=3, mode='torque')\n",
    "servo.__set_posi_corr__(dev_id=3, step=2000)\n",
    "servo.move2Posi(dev_id=[3], posi=[1000], velo=1800, acc=100)"
   ]
  },
  {
   "cell_type": "code",
   "execution_count": null,
   "id": "26d344c8",
   "metadata": {},
   "outputs": [],
   "source": [
    "servo.move2Posi(dev_id=[3, 4], posi=[2000, 3500], velo=1800, acc=100)"
   ]
  },
  {
   "cell_type": "code",
   "execution_count": null,
   "id": "834becfe",
   "metadata": {},
   "outputs": [],
   "source": [
    "status, posi_corr = servo.__get_posi_corr__(dev_id=4)\n",
    "posi_corr"
   ]
  },
  {
   "cell_type": "code",
   "execution_count": null,
   "id": "5ad5d85b",
   "metadata": {},
   "outputs": [],
   "source": [
    "servo.__set_torque_mode__(dev_id=3, mode='free')"
   ]
  },
  {
   "cell_type": "code",
   "execution_count": null,
   "id": "b0f8278c",
   "metadata": {},
   "outputs": [],
   "source": [
    "t = time.time()\n",
    "while True:\n",
    "    posi = servo.readPosi(dev_id=[3], debug=True)[3]['posi']\n",
    "    posi += 2500\n",
    "    servo.move2Posi(dev_id=[4], posi=[posi], velo=1800, acc=100)\n",
    "    time.sleep(0.1)\n",
    "    if time.time() - t > 1:\n",
    "        t = time.time()\n",
    "        print(posi-2500, posi)"
   ]
  }
 ],
 "metadata": {
  "kernelspec": {
   "display_name": "cursor",
   "language": "python",
   "name": "python3"
  },
  "language_info": {
   "codemirror_mode": {
    "name": "ipython",
    "version": 3
   },
   "file_extension": ".py",
   "mimetype": "text/x-python",
   "name": "python",
   "nbconvert_exporter": "python",
   "pygments_lexer": "ipython3",
   "version": "3.13.5"
  }
 },
 "nbformat": 4,
 "nbformat_minor": 5
}
